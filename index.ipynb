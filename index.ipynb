{
 "cells": [
  {
   "cell_type": "markdown",
   "id": "d43d7327",
   "metadata": {},
   "source": [
    "# **PROJECT TITLE: EVALUATING CLIENTS CREDITWORTHINESS**"
   ]
  },
  {
   "cell_type": "markdown",
   "id": "02043e88",
   "metadata": {},
   "source": [
    "![Bank](Bank.png)"
   ]
  },
  {
   "cell_type": "markdown",
   "id": "fa4e1c95",
   "metadata": {},
   "source": [
    "evaluating the creditworthiness of clients"
   ]
  }
 ],
 "metadata": {
  "language_info": {
   "name": "python"
  }
 },
 "nbformat": 4,
 "nbformat_minor": 5
}
